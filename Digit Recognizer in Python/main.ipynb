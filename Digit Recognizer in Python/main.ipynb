{
 "cells": [
  {
   "cell_type": "markdown",
   "metadata": {},
   "source": [
    "# Import dependencies"
   ]
  },
  {
   "cell_type": "code",
   "execution_count": 6,
   "metadata": {},
   "outputs": [],
   "source": [
    "import numpy as np\n",
    "import pandas as pd"
   ]
  },
  {
   "cell_type": "markdown",
   "metadata": {},
   "source": [
    "# Read Data"
   ]
  },
  {
   "cell_type": "code",
   "execution_count": 119,
   "metadata": {},
   "outputs": [],
   "source": [
    "data = pd.read_csv('datasets/train.csv')"
   ]
  },
  {
   "cell_type": "code",
   "execution_count": 120,
   "metadata": {},
   "outputs": [
    {
     "data": {
      "text/html": [
       "<div>\n",
       "<style scoped>\n",
       "    .dataframe tbody tr th:only-of-type {\n",
       "        vertical-align: middle;\n",
       "    }\n",
       "\n",
       "    .dataframe tbody tr th {\n",
       "        vertical-align: top;\n",
       "    }\n",
       "\n",
       "    .dataframe thead th {\n",
       "        text-align: right;\n",
       "    }\n",
       "</style>\n",
       "<table border=\"1\" class=\"dataframe\">\n",
       "  <thead>\n",
       "    <tr style=\"text-align: right;\">\n",
       "      <th></th>\n",
       "      <th>label</th>\n",
       "      <th>pixel0</th>\n",
       "      <th>pixel1</th>\n",
       "      <th>pixel2</th>\n",
       "      <th>pixel3</th>\n",
       "      <th>pixel4</th>\n",
       "      <th>pixel5</th>\n",
       "      <th>pixel6</th>\n",
       "      <th>pixel7</th>\n",
       "      <th>pixel8</th>\n",
       "      <th>...</th>\n",
       "      <th>pixel774</th>\n",
       "      <th>pixel775</th>\n",
       "      <th>pixel776</th>\n",
       "      <th>pixel777</th>\n",
       "      <th>pixel778</th>\n",
       "      <th>pixel779</th>\n",
       "      <th>pixel780</th>\n",
       "      <th>pixel781</th>\n",
       "      <th>pixel782</th>\n",
       "      <th>pixel783</th>\n",
       "    </tr>\n",
       "  </thead>\n",
       "  <tbody>\n",
       "    <tr>\n",
       "      <th>0</th>\n",
       "      <td>1</td>\n",
       "      <td>0</td>\n",
       "      <td>0</td>\n",
       "      <td>0</td>\n",
       "      <td>0</td>\n",
       "      <td>0</td>\n",
       "      <td>0</td>\n",
       "      <td>0</td>\n",
       "      <td>0</td>\n",
       "      <td>0</td>\n",
       "      <td>...</td>\n",
       "      <td>0</td>\n",
       "      <td>0</td>\n",
       "      <td>0</td>\n",
       "      <td>0</td>\n",
       "      <td>0</td>\n",
       "      <td>0</td>\n",
       "      <td>0</td>\n",
       "      <td>0</td>\n",
       "      <td>0</td>\n",
       "      <td>0</td>\n",
       "    </tr>\n",
       "    <tr>\n",
       "      <th>1</th>\n",
       "      <td>0</td>\n",
       "      <td>0</td>\n",
       "      <td>0</td>\n",
       "      <td>0</td>\n",
       "      <td>0</td>\n",
       "      <td>0</td>\n",
       "      <td>0</td>\n",
       "      <td>0</td>\n",
       "      <td>0</td>\n",
       "      <td>0</td>\n",
       "      <td>...</td>\n",
       "      <td>0</td>\n",
       "      <td>0</td>\n",
       "      <td>0</td>\n",
       "      <td>0</td>\n",
       "      <td>0</td>\n",
       "      <td>0</td>\n",
       "      <td>0</td>\n",
       "      <td>0</td>\n",
       "      <td>0</td>\n",
       "      <td>0</td>\n",
       "    </tr>\n",
       "    <tr>\n",
       "      <th>2</th>\n",
       "      <td>1</td>\n",
       "      <td>0</td>\n",
       "      <td>0</td>\n",
       "      <td>0</td>\n",
       "      <td>0</td>\n",
       "      <td>0</td>\n",
       "      <td>0</td>\n",
       "      <td>0</td>\n",
       "      <td>0</td>\n",
       "      <td>0</td>\n",
       "      <td>...</td>\n",
       "      <td>0</td>\n",
       "      <td>0</td>\n",
       "      <td>0</td>\n",
       "      <td>0</td>\n",
       "      <td>0</td>\n",
       "      <td>0</td>\n",
       "      <td>0</td>\n",
       "      <td>0</td>\n",
       "      <td>0</td>\n",
       "      <td>0</td>\n",
       "    </tr>\n",
       "    <tr>\n",
       "      <th>3</th>\n",
       "      <td>4</td>\n",
       "      <td>0</td>\n",
       "      <td>0</td>\n",
       "      <td>0</td>\n",
       "      <td>0</td>\n",
       "      <td>0</td>\n",
       "      <td>0</td>\n",
       "      <td>0</td>\n",
       "      <td>0</td>\n",
       "      <td>0</td>\n",
       "      <td>...</td>\n",
       "      <td>0</td>\n",
       "      <td>0</td>\n",
       "      <td>0</td>\n",
       "      <td>0</td>\n",
       "      <td>0</td>\n",
       "      <td>0</td>\n",
       "      <td>0</td>\n",
       "      <td>0</td>\n",
       "      <td>0</td>\n",
       "      <td>0</td>\n",
       "    </tr>\n",
       "    <tr>\n",
       "      <th>4</th>\n",
       "      <td>0</td>\n",
       "      <td>0</td>\n",
       "      <td>0</td>\n",
       "      <td>0</td>\n",
       "      <td>0</td>\n",
       "      <td>0</td>\n",
       "      <td>0</td>\n",
       "      <td>0</td>\n",
       "      <td>0</td>\n",
       "      <td>0</td>\n",
       "      <td>...</td>\n",
       "      <td>0</td>\n",
       "      <td>0</td>\n",
       "      <td>0</td>\n",
       "      <td>0</td>\n",
       "      <td>0</td>\n",
       "      <td>0</td>\n",
       "      <td>0</td>\n",
       "      <td>0</td>\n",
       "      <td>0</td>\n",
       "      <td>0</td>\n",
       "    </tr>\n",
       "  </tbody>\n",
       "</table>\n",
       "<p>5 rows × 785 columns</p>\n",
       "</div>"
      ],
      "text/plain": [
       "   label  pixel0  pixel1  pixel2  pixel3  pixel4  pixel5  pixel6  pixel7  \\\n",
       "0      1       0       0       0       0       0       0       0       0   \n",
       "1      0       0       0       0       0       0       0       0       0   \n",
       "2      1       0       0       0       0       0       0       0       0   \n",
       "3      4       0       0       0       0       0       0       0       0   \n",
       "4      0       0       0       0       0       0       0       0       0   \n",
       "\n",
       "   pixel8  ...  pixel774  pixel775  pixel776  pixel777  pixel778  pixel779  \\\n",
       "0       0  ...         0         0         0         0         0         0   \n",
       "1       0  ...         0         0         0         0         0         0   \n",
       "2       0  ...         0         0         0         0         0         0   \n",
       "3       0  ...         0         0         0         0         0         0   \n",
       "4       0  ...         0         0         0         0         0         0   \n",
       "\n",
       "   pixel780  pixel781  pixel782  pixel783  \n",
       "0         0         0         0         0  \n",
       "1         0         0         0         0  \n",
       "2         0         0         0         0  \n",
       "3         0         0         0         0  \n",
       "4         0         0         0         0  \n",
       "\n",
       "[5 rows x 785 columns]"
      ]
     },
     "execution_count": 120,
     "metadata": {},
     "output_type": "execute_result"
    }
   ],
   "source": [
    "data.head()"
   ]
  },
  {
   "cell_type": "code",
   "execution_count": 121,
   "metadata": {},
   "outputs": [
    {
     "data": {
      "text/plain": [
       "(42000, 785)"
      ]
     },
     "execution_count": 121,
     "metadata": {},
     "output_type": "execute_result"
    }
   ],
   "source": [
    "data.shape"
   ]
  },
  {
   "cell_type": "code",
   "execution_count": 122,
   "metadata": {},
   "outputs": [
    {
     "data": {
      "text/html": [
       "<div>\n",
       "<style scoped>\n",
       "    .dataframe tbody tr th:only-of-type {\n",
       "        vertical-align: middle;\n",
       "    }\n",
       "\n",
       "    .dataframe tbody tr th {\n",
       "        vertical-align: top;\n",
       "    }\n",
       "\n",
       "    .dataframe thead th {\n",
       "        text-align: right;\n",
       "    }\n",
       "</style>\n",
       "<table border=\"1\" class=\"dataframe\">\n",
       "  <thead>\n",
       "    <tr style=\"text-align: right;\">\n",
       "      <th></th>\n",
       "      <th>pixel0</th>\n",
       "      <th>pixel1</th>\n",
       "      <th>pixel2</th>\n",
       "      <th>pixel3</th>\n",
       "      <th>pixel4</th>\n",
       "      <th>pixel5</th>\n",
       "      <th>pixel6</th>\n",
       "      <th>pixel7</th>\n",
       "      <th>pixel8</th>\n",
       "      <th>pixel9</th>\n",
       "      <th>...</th>\n",
       "      <th>pixel774</th>\n",
       "      <th>pixel775</th>\n",
       "      <th>pixel776</th>\n",
       "      <th>pixel777</th>\n",
       "      <th>pixel778</th>\n",
       "      <th>pixel779</th>\n",
       "      <th>pixel780</th>\n",
       "      <th>pixel781</th>\n",
       "      <th>pixel782</th>\n",
       "      <th>pixel783</th>\n",
       "    </tr>\n",
       "  </thead>\n",
       "  <tbody>\n",
       "    <tr>\n",
       "      <th>0</th>\n",
       "      <td>0</td>\n",
       "      <td>0</td>\n",
       "      <td>0</td>\n",
       "      <td>0</td>\n",
       "      <td>0</td>\n",
       "      <td>0</td>\n",
       "      <td>0</td>\n",
       "      <td>0</td>\n",
       "      <td>0</td>\n",
       "      <td>0</td>\n",
       "      <td>...</td>\n",
       "      <td>0</td>\n",
       "      <td>0</td>\n",
       "      <td>0</td>\n",
       "      <td>0</td>\n",
       "      <td>0</td>\n",
       "      <td>0</td>\n",
       "      <td>0</td>\n",
       "      <td>0</td>\n",
       "      <td>0</td>\n",
       "      <td>0</td>\n",
       "    </tr>\n",
       "    <tr>\n",
       "      <th>1</th>\n",
       "      <td>0</td>\n",
       "      <td>0</td>\n",
       "      <td>0</td>\n",
       "      <td>0</td>\n",
       "      <td>0</td>\n",
       "      <td>0</td>\n",
       "      <td>0</td>\n",
       "      <td>0</td>\n",
       "      <td>0</td>\n",
       "      <td>0</td>\n",
       "      <td>...</td>\n",
       "      <td>0</td>\n",
       "      <td>0</td>\n",
       "      <td>0</td>\n",
       "      <td>0</td>\n",
       "      <td>0</td>\n",
       "      <td>0</td>\n",
       "      <td>0</td>\n",
       "      <td>0</td>\n",
       "      <td>0</td>\n",
       "      <td>0</td>\n",
       "    </tr>\n",
       "    <tr>\n",
       "      <th>2</th>\n",
       "      <td>0</td>\n",
       "      <td>0</td>\n",
       "      <td>0</td>\n",
       "      <td>0</td>\n",
       "      <td>0</td>\n",
       "      <td>0</td>\n",
       "      <td>0</td>\n",
       "      <td>0</td>\n",
       "      <td>0</td>\n",
       "      <td>0</td>\n",
       "      <td>...</td>\n",
       "      <td>0</td>\n",
       "      <td>0</td>\n",
       "      <td>0</td>\n",
       "      <td>0</td>\n",
       "      <td>0</td>\n",
       "      <td>0</td>\n",
       "      <td>0</td>\n",
       "      <td>0</td>\n",
       "      <td>0</td>\n",
       "      <td>0</td>\n",
       "    </tr>\n",
       "    <tr>\n",
       "      <th>3</th>\n",
       "      <td>0</td>\n",
       "      <td>0</td>\n",
       "      <td>0</td>\n",
       "      <td>0</td>\n",
       "      <td>0</td>\n",
       "      <td>0</td>\n",
       "      <td>0</td>\n",
       "      <td>0</td>\n",
       "      <td>0</td>\n",
       "      <td>0</td>\n",
       "      <td>...</td>\n",
       "      <td>0</td>\n",
       "      <td>0</td>\n",
       "      <td>0</td>\n",
       "      <td>0</td>\n",
       "      <td>0</td>\n",
       "      <td>0</td>\n",
       "      <td>0</td>\n",
       "      <td>0</td>\n",
       "      <td>0</td>\n",
       "      <td>0</td>\n",
       "    </tr>\n",
       "    <tr>\n",
       "      <th>4</th>\n",
       "      <td>0</td>\n",
       "      <td>0</td>\n",
       "      <td>0</td>\n",
       "      <td>0</td>\n",
       "      <td>0</td>\n",
       "      <td>0</td>\n",
       "      <td>0</td>\n",
       "      <td>0</td>\n",
       "      <td>0</td>\n",
       "      <td>0</td>\n",
       "      <td>...</td>\n",
       "      <td>0</td>\n",
       "      <td>0</td>\n",
       "      <td>0</td>\n",
       "      <td>0</td>\n",
       "      <td>0</td>\n",
       "      <td>0</td>\n",
       "      <td>0</td>\n",
       "      <td>0</td>\n",
       "      <td>0</td>\n",
       "      <td>0</td>\n",
       "    </tr>\n",
       "  </tbody>\n",
       "</table>\n",
       "<p>5 rows × 784 columns</p>\n",
       "</div>"
      ],
      "text/plain": [
       "   pixel0  pixel1  pixel2  pixel3  pixel4  pixel5  pixel6  pixel7  pixel8  \\\n",
       "0       0       0       0       0       0       0       0       0       0   \n",
       "1       0       0       0       0       0       0       0       0       0   \n",
       "2       0       0       0       0       0       0       0       0       0   \n",
       "3       0       0       0       0       0       0       0       0       0   \n",
       "4       0       0       0       0       0       0       0       0       0   \n",
       "\n",
       "   pixel9  ...  pixel774  pixel775  pixel776  pixel777  pixel778  pixel779  \\\n",
       "0       0  ...         0         0         0         0         0         0   \n",
       "1       0  ...         0         0         0         0         0         0   \n",
       "2       0  ...         0         0         0         0         0         0   \n",
       "3       0  ...         0         0         0         0         0         0   \n",
       "4       0  ...         0         0         0         0         0         0   \n",
       "\n",
       "   pixel780  pixel781  pixel782  pixel783  \n",
       "0         0         0         0         0  \n",
       "1         0         0         0         0  \n",
       "2         0         0         0         0  \n",
       "3         0         0         0         0  \n",
       "4         0         0         0         0  \n",
       "\n",
       "[5 rows x 784 columns]"
      ]
     },
     "execution_count": 122,
     "metadata": {},
     "output_type": "execute_result"
    }
   ],
   "source": [
    "X = data.drop('label', axis=1)\n",
    "X.head()"
   ]
  },
  {
   "cell_type": "code",
   "execution_count": 124,
   "metadata": {},
   "outputs": [
    {
     "data": {
      "text/plain": [
       "0    1\n",
       "1    0\n",
       "2    1\n",
       "3    4\n",
       "4    0\n",
       "Name: label, dtype: int64"
      ]
     },
     "execution_count": 124,
     "metadata": {},
     "output_type": "execute_result"
    }
   ],
   "source": [
    "y = data['label']\n",
    "y.head()"
   ]
  },
  {
   "cell_type": "code",
   "execution_count": 125,
   "metadata": {},
   "outputs": [
    {
     "data": {
      "text/plain": [
       "array([1, 0, 1, 4, 0], dtype=int64)"
      ]
     },
     "execution_count": 125,
     "metadata": {},
     "output_type": "execute_result"
    }
   ],
   "source": [
    "y = np.array(y)\n",
    "y[:5]"
   ]
  },
  {
   "cell_type": "code",
   "execution_count": 126,
   "metadata": {},
   "outputs": [
    {
     "data": {
      "text/plain": [
       "(42000,)"
      ]
     },
     "execution_count": 126,
     "metadata": {},
     "output_type": "execute_result"
    }
   ],
   "source": [
    "y.shape"
   ]
  },
  {
   "cell_type": "code",
   "execution_count": 127,
   "metadata": {},
   "outputs": [
    {
     "data": {
      "text/plain": [
       "(784, 42000)"
      ]
     },
     "execution_count": 127,
     "metadata": {},
     "output_type": "execute_result"
    }
   ],
   "source": [
    "X = X.T\n",
    "X.shape"
   ]
  },
  {
   "cell_type": "code",
   "execution_count": 128,
   "metadata": {},
   "outputs": [
    {
     "data": {
      "text/plain": [
       "(784, 42000)"
      ]
     },
     "execution_count": 128,
     "metadata": {},
     "output_type": "execute_result"
    }
   ],
   "source": [
    "X = np.array(X)\n",
    "X.shape"
   ]
  },
  {
   "cell_type": "code",
   "execution_count": 134,
   "metadata": {},
   "outputs": [],
   "source": [
    "X = X/255"
   ]
  },
  {
   "cell_type": "code",
   "execution_count": 106,
   "metadata": {},
   "outputs": [
    {
     "name": "stdout",
     "output_type": "stream",
     "text": [
      "42000\n",
      "785\n"
     ]
    }
   ],
   "source": [
    "m, n = data.shape\n",
    "print(m)\n",
    "print(n)"
   ]
  },
  {
   "cell_type": "markdown",
   "metadata": {},
   "source": [
    "# Split training and test set"
   ]
  },
  {
   "cell_type": "code",
   "execution_count": 135,
   "metadata": {},
   "outputs": [],
   "source": [
    "test_ratio = 0.25\n",
    "train_ratio = 1 - test_ratio\n",
    "\n",
    "test_size = int(len(y) * test_ratio)\n",
    "train_size = len(y) - test_size\n",
    "\n",
    "X_train = X[:, :train_size]\n",
    "y_train = y[:train_size]\n",
    "\n",
    "X_test = X[:, :test_size]\n",
    "y_test = y[:test_size]"
   ]
  },
  {
   "cell_type": "markdown",
   "metadata": {},
   "source": [
    "# Neural Network"
   ]
  },
  {
   "cell_type": "markdown",
   "metadata": {},
   "source": [
    "## Initialize parameters"
   ]
  },
  {
   "cell_type": "code",
   "execution_count": 137,
   "metadata": {},
   "outputs": [],
   "source": [
    "def init_params():\n",
    "    w1 = np.random.randn(16, 784)\n",
    "    b1 = np.random.randn(16, 1)\n",
    "    w2 = np.random.randn(10, 16)\n",
    "    b2 = np.random.randn(10, 1)\n",
    "    return w1, b1, w2, b2"
   ]
  },
  {
   "cell_type": "markdown",
   "metadata": {},
   "source": [
    "## Feedforward"
   ]
  },
  {
   "cell_type": "code",
   "execution_count": 69,
   "metadata": {},
   "outputs": [],
   "source": [
    "def sigmoid(z):\n",
    "    return 1 / (1 + np.exp(-z))"
   ]
  },
  {
   "cell_type": "code",
   "execution_count": 70,
   "metadata": {},
   "outputs": [],
   "source": [
    "def sigmoid_prime(z):\n",
    "    return sigmoid(z)*(1-sigmoid(z))"
   ]
  },
  {
   "cell_type": "code",
   "execution_count": 71,
   "metadata": {},
   "outputs": [],
   "source": [
    "def feed_forward(w1, b1, w2, b2, X):\n",
    "    z1 = w1.dot(X) + b1\n",
    "    a1 = sigmoid(z1)\n",
    "    z2 = w2.dot(a1) + b2\n",
    "    a2 = sigmoid(z2)\n",
    "    return z1, a1, z2, a2"
   ]
  },
  {
   "cell_type": "markdown",
   "metadata": {},
   "source": [
    "## Backpropagation"
   ]
  },
  {
   "cell_type": "code",
   "execution_count": 72,
   "metadata": {},
   "outputs": [],
   "source": [
    "def one_hot(y): # encoding y\n",
    "    res = np.zeros((y.size, 10))\n",
    "    res[np.arange(y.size), y] = 1\n",
    "    res = res.T\n",
    "    return res"
   ]
  },
  {
   "cell_type": "code",
   "execution_count": 73,
   "metadata": {},
   "outputs": [],
   "source": [
    "def backprop(w1, b1, w2, b2, z1, z2, a1, a2, X, y):\n",
    "    y_one_hot = one_hot(y)\n",
    "    dz2 = a2 - y_one_hot\n",
    "    dw2 = 1/m * dz2.dot(a1.T)\n",
    "    db2 = 1/m * np.sum(dz2)\n",
    "    dz1 = w2.T.dot(dz2) * sigmoid_prime(z1)\n",
    "    dw1 = 1/m * dz1.dot(X.T)\n",
    "    db1 = 1/m * np.sum(dz1)\n",
    "    return dw1, db1, dw2, db2"
   ]
  },
  {
   "cell_type": "code",
   "execution_count": 74,
   "metadata": {},
   "outputs": [],
   "source": [
    "def update_params(w1, b1, w2, b2, dw1, db1, dw2, db2, eta):\n",
    "    w1 = w1 - eta*dw1\n",
    "    b1 = b1 - eta*db1\n",
    "    w2 = w2 - eta*dw2\n",
    "    b2 = b2 - eta*db2\n",
    "    return w1, b1, w2, b2"
   ]
  },
  {
   "cell_type": "code",
   "execution_count": 75,
   "metadata": {},
   "outputs": [],
   "source": [
    "def predict(a2):\n",
    "    return np.argmax(a2, 0)\n",
    "\n",
    "def accuracy(predictions, y):\n",
    "    print(predictions, y)\n",
    "    return np.sum(predictions == y) / y.size"
   ]
  },
  {
   "cell_type": "code",
   "execution_count": 76,
   "metadata": {},
   "outputs": [],
   "source": [
    "def gradient_descent(X, y, iterations, eta):\n",
    "    w1, b1, w2, b2 = init_params()\n",
    "    for i in range(iterations):\n",
    "        z1, a1, z2, a2 = feed_forward(w1, b1, w2, b2, X)\n",
    "        dw1, db1, dw2, db2 = backprop(w1, b1, w2, b2, z1, z2, a1, a2, X, y)\n",
    "        w1, b1, w2, b2 = update_params(w1, b1, w2, b2, dw1, db1, dw2, db2, eta)\n",
    "        if i % 10 == 0:\n",
    "            print('Iteration: ', i)\n",
    "            predictions = predict(a2)\n",
    "            print('Accuracy: ', accuracy(predictions, y))\n",
    "    return w1, b1, w2, b2"
   ]
  },
  {
   "cell_type": "code",
   "execution_count": 141,
   "metadata": {},
   "outputs": [
    {
     "name": "stdout",
     "output_type": "stream",
     "text": [
      "Iteration:  0\n",
      "[8 7 8 ... 8 9 8] [1 0 1 ... 2 9 5]\n",
      "Accuracy:  0.09123809523809524\n",
      "Iteration:  10\n",
      "[9 4 6 ... 8 4 8] [1 0 1 ... 2 9 5]\n",
      "Accuracy:  0.1782857142857143\n",
      "Iteration:  20\n",
      "[9 0 1 ... 8 4 8] [1 0 1 ... 2 9 5]\n",
      "Accuracy:  0.27276190476190476\n",
      "Iteration:  30\n",
      "[1 0 1 ... 8 4 8] [1 0 1 ... 2 9 5]\n",
      "Accuracy:  0.3520634920634921\n",
      "Iteration:  40\n",
      "[1 0 1 ... 8 4 8] [1 0 1 ... 2 9 5]\n",
      "Accuracy:  0.415015873015873\n",
      "Iteration:  50\n",
      "[1 0 1 ... 8 3 8] [1 0 1 ... 2 9 5]\n",
      "Accuracy:  0.4661904761904762\n",
      "Iteration:  60\n",
      "[1 0 1 ... 8 3 8] [1 0 1 ... 2 9 5]\n",
      "Accuracy:  0.5014603174603175\n",
      "Iteration:  70\n",
      "[1 0 1 ... 8 3 8] [1 0 1 ... 2 9 5]\n",
      "Accuracy:  0.5315873015873016\n",
      "Iteration:  80\n",
      "[1 0 1 ... 8 3 8] [1 0 1 ... 2 9 5]\n",
      "Accuracy:  0.5547619047619048\n",
      "Iteration:  90\n",
      "[1 0 1 ... 8 3 8] [1 0 1 ... 2 9 5]\n",
      "Accuracy:  0.5758730158730159\n",
      "Iteration:  100\n",
      "[1 0 1 ... 8 3 2] [1 0 1 ... 2 9 5]\n",
      "Accuracy:  0.5948253968253968\n",
      "Iteration:  110\n",
      "[1 0 1 ... 2 3 2] [1 0 1 ... 2 9 5]\n",
      "Accuracy:  0.611015873015873\n",
      "Iteration:  120\n",
      "[1 0 1 ... 2 3 2] [1 0 1 ... 2 9 5]\n",
      "Accuracy:  0.6248571428571429\n",
      "Iteration:  130\n",
      "[1 0 1 ... 2 3 2] [1 0 1 ... 2 9 5]\n",
      "Accuracy:  0.6384761904761905\n",
      "Iteration:  140\n",
      "[1 0 1 ... 2 3 2] [1 0 1 ... 2 9 5]\n",
      "Accuracy:  0.6508571428571429\n",
      "Iteration:  150\n",
      "[1 0 1 ... 2 0 2] [1 0 1 ... 2 9 5]\n",
      "Accuracy:  0.6608888888888889\n",
      "Iteration:  160\n",
      "[1 0 1 ... 2 0 2] [1 0 1 ... 2 9 5]\n",
      "Accuracy:  0.6708571428571428\n",
      "Iteration:  170\n",
      "[1 0 1 ... 2 0 2] [1 0 1 ... 2 9 5]\n",
      "Accuracy:  0.6813333333333333\n",
      "Iteration:  180\n",
      "[1 0 1 ... 2 0 2] [1 0 1 ... 2 9 5]\n",
      "Accuracy:  0.6907936507936508\n",
      "Iteration:  190\n",
      "[1 0 1 ... 2 0 2] [1 0 1 ... 2 9 5]\n",
      "Accuracy:  0.6983174603174603\n",
      "Iteration:  200\n",
      "[1 0 1 ... 2 0 2] [1 0 1 ... 2 9 5]\n",
      "Accuracy:  0.7068253968253968\n",
      "Iteration:  210\n",
      "[1 0 1 ... 2 0 2] [1 0 1 ... 2 9 5]\n",
      "Accuracy:  0.7139682539682539\n",
      "Iteration:  220\n",
      "[1 0 1 ... 2 0 2] [1 0 1 ... 2 9 5]\n",
      "Accuracy:  0.720031746031746\n",
      "Iteration:  230\n",
      "[1 0 1 ... 2 0 2] [1 0 1 ... 2 9 5]\n",
      "Accuracy:  0.725936507936508\n",
      "Iteration:  240\n",
      "[1 0 1 ... 2 0 2] [1 0 1 ... 2 9 5]\n",
      "Accuracy:  0.7316190476190476\n",
      "Iteration:  250\n",
      "[1 0 1 ... 2 0 2] [1 0 1 ... 2 9 5]\n",
      "Accuracy:  0.736\n",
      "Iteration:  260\n",
      "[1 0 1 ... 2 0 2] [1 0 1 ... 2 9 5]\n",
      "Accuracy:  0.7407619047619047\n",
      "Iteration:  270\n",
      "[1 0 1 ... 2 0 2] [1 0 1 ... 2 9 5]\n",
      "Accuracy:  0.7454603174603175\n",
      "Iteration:  280\n",
      "[1 0 1 ... 2 0 2] [1 0 1 ... 2 9 5]\n",
      "Accuracy:  0.7498095238095238\n",
      "Iteration:  290\n",
      "[1 0 1 ... 2 0 2] [1 0 1 ... 2 9 5]\n",
      "Accuracy:  0.7546349206349207\n",
      "Iteration:  300\n",
      "[1 0 1 ... 2 5 2] [1 0 1 ... 2 9 5]\n",
      "Accuracy:  0.7585714285714286\n",
      "Iteration:  310\n",
      "[1 0 1 ... 2 5 2] [1 0 1 ... 2 9 5]\n",
      "Accuracy:  0.7616825396825396\n",
      "Iteration:  320\n",
      "[1 0 1 ... 2 5 2] [1 0 1 ... 2 9 5]\n",
      "Accuracy:  0.7647936507936508\n",
      "Iteration:  330\n",
      "[1 0 1 ... 2 5 2] [1 0 1 ... 2 9 5]\n",
      "Accuracy:  0.7686031746031746\n",
      "Iteration:  340\n",
      "[1 0 1 ... 2 5 2] [1 0 1 ... 2 9 5]\n",
      "Accuracy:  0.7726349206349207\n",
      "Iteration:  350\n",
      "[1 0 1 ... 2 5 2] [1 0 1 ... 2 9 5]\n",
      "Accuracy:  0.7756825396825396\n",
      "Iteration:  360\n",
      "[1 0 1 ... 2 5 2] [1 0 1 ... 2 9 5]\n",
      "Accuracy:  0.7783492063492063\n",
      "Iteration:  370\n",
      "[1 0 1 ... 2 5 2] [1 0 1 ... 2 9 5]\n",
      "Accuracy:  0.7813333333333333\n",
      "Iteration:  380\n",
      "[1 0 1 ... 2 5 2] [1 0 1 ... 2 9 5]\n",
      "Accuracy:  0.7842539682539682\n",
      "Iteration:  390\n",
      "[1 0 1 ... 2 9 2] [1 0 1 ... 2 9 5]\n",
      "Accuracy:  0.7867619047619048\n",
      "Iteration:  400\n",
      "[1 0 1 ... 2 9 2] [1 0 1 ... 2 9 5]\n",
      "Accuracy:  0.7893650793650794\n",
      "Iteration:  410\n",
      "[1 0 1 ... 2 9 2] [1 0 1 ... 2 9 5]\n",
      "Accuracy:  0.7924444444444444\n",
      "Iteration:  420\n",
      "[1 0 1 ... 2 9 2] [1 0 1 ... 2 9 5]\n",
      "Accuracy:  0.7946349206349206\n",
      "Iteration:  430\n",
      "[1 0 1 ... 2 9 2] [1 0 1 ... 2 9 5]\n",
      "Accuracy:  0.7969206349206349\n",
      "Iteration:  440\n",
      "[1 0 1 ... 2 9 2] [1 0 1 ... 2 9 5]\n",
      "Accuracy:  0.7993650793650794\n",
      "Iteration:  450\n",
      "[1 0 1 ... 2 9 2] [1 0 1 ... 2 9 5]\n",
      "Accuracy:  0.8015238095238095\n",
      "Iteration:  460\n",
      "[1 0 1 ... 2 9 2] [1 0 1 ... 2 9 5]\n",
      "Accuracy:  0.8032698412698412\n",
      "Iteration:  470\n",
      "[1 0 1 ... 2 9 2] [1 0 1 ... 2 9 5]\n",
      "Accuracy:  0.8052380952380952\n",
      "Iteration:  480\n",
      "[1 0 1 ... 2 9 2] [1 0 1 ... 2 9 5]\n",
      "Accuracy:  0.8074603174603174\n",
      "Iteration:  490\n",
      "[1 0 1 ... 2 9 2] [1 0 1 ... 2 9 5]\n",
      "Accuracy:  0.8094285714285714\n"
     ]
    }
   ],
   "source": [
    "w1, b1, w2, b2 = gradient_descent(X_train, y_train, 500, 1)"
   ]
  },
  {
   "cell_type": "code",
   "execution_count": 145,
   "metadata": {},
   "outputs": [],
   "source": [
    "def make_predictions(X, W1, b1, W2, b2):\n",
    "    _, _, _, A2 = feed_forward(W1, b1, W2, b2, X)\n",
    "    predictions = predict(A2)\n",
    "    return predictions\n",
    "\n",
    "def test_prediction(index, X, y, W1, b1, W2, b2):\n",
    "    current_image = X[:, index, None]\n",
    "    prediction = make_predictions(X[:, index, None], W1, b1, W2, b2)\n",
    "    label = y[index]\n",
    "    print(\"Prediction: \", prediction)\n",
    "    print(\"Label: \", label)\n",
    "    \n",
    "    current_image = current_image.reshape((28, 28)) * 255\n",
    "    plt.gray()\n",
    "    plt.imshow(current_image, interpolation='nearest')\n",
    "    plt.show()"
   ]
  },
  {
   "cell_type": "code",
   "execution_count": 161,
   "metadata": {},
   "outputs": [
    {
     "name": "stdout",
     "output_type": "stream",
     "text": [
      "Mean absolute error: \n",
      "0.6435238095238095\n",
      "Mean square error: \n",
      "2.9448571428571424\n"
     ]
    }
   ],
   "source": [
    "import matplotlib.pyplot as plt\n",
    "\n",
    "def mae(predictions, y):\n",
    "    return np.sum(np.abs(predictions - y)) / y.size\n",
    "\n",
    "def mse(predictions, y):\n",
    "    return np.sum(np.linalg.norm(predictions - y)**2) / y.size\n",
    "    \n",
    "predictions = make_predictions(X_test, w1, b1, w2, b2)\n",
    "print('Mean absolute error: ')\n",
    "print(mae(predictions, y_test))\n",
    "\n",
    "print('Mean square error: ')\n",
    "print(mse(predictions, y_test))"
   ]
  },
  {
   "cell_type": "code",
   "execution_count": null,
   "metadata": {},
   "outputs": [],
   "source": []
  }
 ],
 "metadata": {
  "kernelspec": {
   "display_name": "Python 3 (ipykernel)",
   "language": "python",
   "name": "python3"
  },
  "language_info": {
   "codemirror_mode": {
    "name": "ipython",
    "version": 3
   },
   "file_extension": ".py",
   "mimetype": "text/x-python",
   "name": "python",
   "nbconvert_exporter": "python",
   "pygments_lexer": "ipython3",
   "version": "3.11.5"
  }
 },
 "nbformat": 4,
 "nbformat_minor": 4
}
